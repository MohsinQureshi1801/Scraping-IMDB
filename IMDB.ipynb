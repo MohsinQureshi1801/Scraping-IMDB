{
 "cells": [
  {
   "cell_type": "code",
   "execution_count": 1,
   "id": "d7e6b964-d920-407c-accc-3fb6635ce97c",
   "metadata": {},
   "outputs": [],
   "source": [
    "from selenium import webdriver\n",
    "import pandas as pd\n",
    "\n",
    "website_url = 'https://www.imdb.com/what-to-watch/fan-favorites/?ref_=hm_fanfav_sm'\n",
    "\n",
    "driver = webdriver.Chrome()\n",
    "\n",
    "driver.get(website_url)\n",
    "\n",
    "driver.maximize_window()"
   ]
  },
  {
   "cell_type": "markdown",
   "id": "c3b66cad-1b1c-45b6-82ed-91c5d6df4dd7",
   "metadata": {},
   "source": [
    "## Getting fan favorite movie titles & ratings"
   ]
  },
  {
   "cell_type": "code",
   "execution_count": 2,
   "id": "a0924792-71c4-407f-aa39-7d637ead9429",
   "metadata": {},
   "outputs": [],
   "source": [
    "container = driver.find_element(by='xpath',value='//section[contains(@class, \"ipc-page-section ipc-page-section--none ipc-page-section--bp-none\")]')\n",
    "\n",
    "audible_list = container.find_elements(by='xpath',value='./div[2]/div/div/div[contains(@class,\"ipc-sub-grid ipc-sub-grid--page-span-3 ipc-sub-grid--wrap sc-550c1afc-0 kQtiZR ipc-page-grid__item ipc-page-grid__item--span-3\")]/div')\n",
    "\n",
    "movie_title = []\n",
    "movie_rattings = []\n",
    "\n",
    "for product in audible_list:\n",
    "    \n",
    "    movie_title.append(product.find_element(by='xpath',value='.//span[contains(@data-testid, \"title\")]').text)\n",
    "    movie_rattings.append(product.find_element(by='xpath',value='.//div[contains(@class, \"ipc-rating-star-group\")]').text)\n",
    "    \n",
    "df = pd.DataFrame({\"Movie title\":movie_title,\"Movie rating\": movie_rattings})\n",
    "\n",
    "df.to_excel(\"Fan_favorite_movie_details.xlsx\",index= False)"
   ]
  },
  {
   "cell_type": "code",
   "execution_count": null,
   "id": "8fd01059-b3b3-4dd7-b510-9cd52a93772c",
   "metadata": {},
   "outputs": [],
   "source": []
  }
 ],
 "metadata": {
  "kernelspec": {
   "display_name": "Python 3 (ipykernel)",
   "language": "python",
   "name": "python3"
  },
  "language_info": {
   "codemirror_mode": {
    "name": "ipython",
    "version": 3
   },
   "file_extension": ".py",
   "mimetype": "text/x-python",
   "name": "python",
   "nbconvert_exporter": "python",
   "pygments_lexer": "ipython3",
   "version": "3.11.5"
  }
 },
 "nbformat": 4,
 "nbformat_minor": 5
}
